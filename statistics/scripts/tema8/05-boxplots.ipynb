{
 "cells": [
  {
   "cell_type": "markdown",
   "metadata": {},
   "source": [
    "# Diagrama de Caja y Bigotes"
   ]
  },
  {
   "cell_type": "code",
   "execution_count": 1,
   "metadata": {},
   "outputs": [],
   "source": [
    "import numpy as np\n",
    "import matplotlib.pyplot as plt"
   ]
  },
  {
   "cell_type": "code",
   "execution_count": 2,
   "metadata": {},
   "outputs": [],
   "source": [
    "np.random.seed(19880519)"
   ]
  },
  {
   "cell_type": "code",
   "execution_count": 3,
   "metadata": {},
   "outputs": [],
   "source": [
    "dist1 = 100*np.random.rand(50)\n",
    "dist2 = 50*np.ones(25)\n",
    "dist3 = 100+100*np.random.rand(10)\n",
    "dist4 = -100*np.random.rand(10)\n",
    "data = np.concatenate((dist1, dist2, dist3, dist4))"
   ]
  },
  {
   "cell_type": "code",
   "execution_count": 4,
   "metadata": {},
   "outputs": [
    {
     "data": {
      "text/plain": [
       "{'whiskers': [<matplotlib.lines.Line2D at 0x7f622529b4f0>,\n",
       "  <matplotlib.lines.Line2D at 0x7f622529b7c0>],\n",
       " 'caps': [<matplotlib.lines.Line2D at 0x7f622529bb50>,\n",
       "  <matplotlib.lines.Line2D at 0x7f622529bd60>],\n",
       " 'boxes': [<matplotlib.lines.Line2D at 0x7f622529b340>],\n",
       " 'medians': [<matplotlib.lines.Line2D at 0x7f62252b6070>],\n",
       " 'fliers': [<matplotlib.lines.Line2D at 0x7f62252b6340>],\n",
       " 'means': []}"
      ]
     },
     "execution_count": 4,
     "metadata": {},
     "output_type": "execute_result"
    },
    {
     "data": {
      "image/png": "[encoded data removed]",
      "text/plain": [
       "<Figure size 432x288 with 1 Axes>"
      ]
     },
     "metadata": {
      "needs_background": "light"
     },
     "output_type": "display_data"
    }
   ],
   "source": [
    "fig1, ax1 = plt.subplots()\n",
    "ax1.set_title(\"Boxplot básico\")\n",
    "ax1.boxplot(data)"
   ]
  },
  {
   "cell_type": "code",
   "execution_count": 5,
   "metadata": {},
   "outputs": [
    {
     "data": {
      "text/plain": [
       "{'whiskers': [<matplotlib.lines.Line2D at 0x7f622519ca90>,\n",
       "  <matplotlib.lines.Line2D at 0x7f622519cd60>],\n",
       " 'caps': [<matplotlib.lines.Line2D at 0x7f62251af070>,\n",
       "  <matplotlib.lines.Line2D at 0x7f62251af340>],\n",
       " 'boxes': [<matplotlib.lines.Line2D at 0x7f622519c7c0>],\n",
       " 'medians': [<matplotlib.lines.Line2D at 0x7f62251af610>],\n",
       " 'fliers': [<matplotlib.lines.Line2D at 0x7f62251af8e0>],\n",
       " 'means': []}"
      ]
     },
     "execution_count": 5,
     "metadata": {},
     "output_type": "execute_result"
    },
    {
     "data": {
      "image/png": "[encoded data removed]",
      "text/plain": [
       "<Figure size 432x288 with 1 Axes>"
      ]
     },
     "metadata": {
      "needs_background": "light"
     },
     "output_type": "display_data"
    }
   ],
   "source": [
    "fig2, ax2 = plt.subplots()\n",
    "ax2.set_title(\"Boxplot con muescas\")\n",
    "ax2.boxplot(data, notch = True)"
   ]
  },
  {
   "cell_type": "code",
   "execution_count": 6,
   "metadata": {},
   "outputs": [
    {
     "data": {
      "text/plain": [
       "{'whiskers': [<matplotlib.lines.Line2D at 0x7f622518c8b0>,\n",
       "  <matplotlib.lines.Line2D at 0x7f622518cb80>],\n",
       " 'caps': [<matplotlib.lines.Line2D at 0x7f622518ce50>,\n",
       "  <matplotlib.lines.Line2D at 0x7f622511b160>],\n",
       " 'boxes': [<matplotlib.lines.Line2D at 0x7f622518c5e0>],\n",
       " 'medians': [<matplotlib.lines.Line2D at 0x7f622511b430>],\n",
       " 'fliers': [<matplotlib.lines.Line2D at 0x7f622511b700>],\n",
       " 'means': []}"
      ]
     },
     "execution_count": 6,
     "metadata": {},
     "output_type": "execute_result"
    },
    {
     "data": {
      "image/png": "[encoded data removed]",
      "text/plain": [
       "<Figure size 432x288 with 1 Axes>"
      ]
     },
     "metadata": {
      "needs_background": "light"
     },
     "output_type": "display_data"
    }
   ],
   "source": [
    "green_diamond = dict(markerfacecolor=\"g\", marker=\"D\")\n",
    "fig3, ax3 = plt.subplots()\n",
    "ax3.set_title(\"Boxplot con outliers personalizados\")\n",
    "ax3.boxplot(data, flierprops=green_diamond)"
   ]
  },
  {
   "cell_type": "code",
   "execution_count": 7,
   "metadata": {},
   "outputs": [
    {
     "data": {
      "text/plain": [
       "{'whiskers': [<matplotlib.lines.Line2D at 0x7f62250fe250>,\n",
       "  <matplotlib.lines.Line2D at 0x7f62250fe520>],\n",
       " 'caps': [<matplotlib.lines.Line2D at 0x7f62250fe7f0>,\n",
       "  <matplotlib.lines.Line2D at 0x7f62250feac0>],\n",
       " 'boxes': [<matplotlib.lines.Line2D at 0x7f62250f0f40>],\n",
       " 'medians': [<matplotlib.lines.Line2D at 0x7f62250fed90>],\n",
       " 'fliers': [],\n",
       " 'means': []}"
      ]
     },
     "execution_count": 7,
     "metadata": {},
     "output_type": "execute_result"
    },
    {
     "data": {
      "image/png": "[encoded data removed]",
      "text/plain": [
       "<Figure size 432x288 with 1 Axes>"
      ]
     },
     "metadata": {
      "needs_background": "light"
     },
     "output_type": "display_data"
    }
   ],
   "source": [
    "fig4, ax4 = plt.subplots()\n",
    "ax4.set_title(\"Boxplot sin outliers\")\n",
    "ax4.boxplot(data, showfliers=False)"
   ]
  },
  {
   "cell_type": "code",
   "execution_count": 8,
   "metadata": {},
   "outputs": [
    {
     "data": {
      "text/plain": [
       "{'whiskers': [<matplotlib.lines.Line2D at 0x7f6225067520>,\n",
       "  <matplotlib.lines.Line2D at 0x7f62250677f0>],\n",
       " 'caps': [<matplotlib.lines.Line2D at 0x7f6225067af0>,\n",
       "  <matplotlib.lines.Line2D at 0x7f6225067dc0>],\n",
       " 'boxes': [<matplotlib.lines.Line2D at 0x7f6225067250>],\n",
       " 'medians': [<matplotlib.lines.Line2D at 0x7f62250760d0>],\n",
       " 'fliers': [<matplotlib.lines.Line2D at 0x7f62250763a0>],\n",
       " 'means': []}"
      ]
     },
     "execution_count": 8,
     "metadata": {},
     "output_type": "execute_result"
    },
    {
     "data": {
      "image/png": "[encoded data removed]",
      "text/plain": [
       "<Figure size 432x288 with 1 Axes>"
      ]
     },
     "metadata": {
      "needs_background": "light"
     },
     "output_type": "display_data"
    }
   ],
   "source": [
    "red_square = dict(markerfacecolor=\"r\", marker=\"s\")\n",
    "fig5, ax5 = plt.subplots()\n",
    "ax5.set_title(\"Boxplot personalizado y en horizontal\")\n",
    "ax5.boxplot(data, vert=False, flierprops=red_square, whis=0.75)"
   ]
  },
  {
   "cell_type": "code",
   "execution_count": 9,
   "metadata": {},
   "outputs": [],
   "source": [
    "dist1 = 100*np.random.rand(50)\n",
    "dist2 = 40*np.ones(25)\n",
    "dist3 = 100+100*np.random.rand(10)\n",
    "dist4 = -100*np.random.rand(10)\n",
    "data2 = np.concatenate((dist1, dist2, dist3, dist4))"
   ]
  },
  {
   "cell_type": "code",
   "execution_count": 10,
   "metadata": {},
   "outputs": [],
   "source": [
    "data.shape = (-1,1)\n",
    "data2.shape = (-1,1)"
   ]
  },
  {
   "cell_type": "code",
   "execution_count": 11,
   "metadata": {},
   "outputs": [],
   "source": [
    "fulldata = [data, data2, data2[::2,0]]"
   ]
  },
  {
   "cell_type": "code",
   "execution_count": 13,
   "metadata": {},
   "outputs": [
    {
     "data": {
      "text/plain": [
       "array([[ 95.01724869],\n",
       "       [ 69.12380733],\n",
       "       [  0.48968187],\n",
       "       [ 47.05894682],\n",
       "       [  4.67473068],\n",
       "       [ 40.67623396],\n",
       "       [ 64.21756915],\n",
       "       [ 80.53317201],\n",
       "       [ 84.53778094],\n",
       "       [ 76.21458325],\n",
       "       [ 28.2380596 ],\n",
       "       [ 54.32356712],\n",
       "       [ 21.16504806],\n",
       "       [ 52.59957334],\n",
       "       [ 65.78326666],\n",
       "       [ 54.08796086],\n",
       "       [ 65.67253313],\n",
       "       [ 51.64959973],\n",
       "       [  9.65024989],\n",
       "       [ 26.83019698],\n",
       "       [ 14.21042473],\n",
       "       [ 13.33719378],\n",
       "       [ 18.38719552],\n",
       "       [ 13.45049344],\n",
       "       [ 97.07057711],\n",
       "       [ 18.73437919],\n",
       "       [ 39.92258068],\n",
       "       [ 12.73583334],\n",
       "       [ 34.15880868],\n",
       "       [ 27.34334446],\n",
       "       [ 63.40891363],\n",
       "       [ 36.87074717],\n",
       "       [ 33.79820623],\n",
       "       [ 21.86138707],\n",
       "       [ 17.0335533 ],\n",
       "       [ 38.27908563],\n",
       "       [  4.80311074],\n",
       "       [ 36.92550198],\n",
       "       [ 51.52779024],\n",
       "       [ 97.34127621],\n",
       "       [ 32.06991078],\n",
       "       [ 64.89984571],\n",
       "       [ 59.66134846],\n",
       "       [ 48.30605468],\n",
       "       [  0.8439178 ],\n",
       "       [ 37.71842933],\n",
       "       [ 88.4417325 ],\n",
       "       [ 72.57061663],\n",
       "       [ 90.17827533],\n",
       "       [ 21.40222012],\n",
       "       [ 50.        ],\n",
       "       [ 50.        ],\n",
       "       [ 50.        ],\n",
       "       [ 50.        ],\n",
       "       [ 50.        ],\n",
       "       [ 50.        ],\n",
       "       [ 50.        ],\n",
       "       [ 50.        ],\n",
       "       [ 50.        ],\n",
       "       [ 50.        ],\n",
       "       [ 50.        ],\n",
       "       [ 50.        ],\n",
       "       [ 50.        ],\n",
       "       [ 50.        ],\n",
       "       [ 50.        ],\n",
       "       [ 50.        ],\n",
       "       [ 50.        ],\n",
       "       [ 50.        ],\n",
       "       [ 50.        ],\n",
       "       [ 50.        ],\n",
       "       [ 50.        ],\n",
       "       [ 50.        ],\n",
       "       [ 50.        ],\n",
       "       [ 50.        ],\n",
       "       [ 50.        ],\n",
       "       [152.12564387],\n",
       "       [159.53092968],\n",
       "       [128.24711871],\n",
       "       [161.46335708],\n",
       "       [119.74804423],\n",
       "       [123.07403083],\n",
       "       [187.28301266],\n",
       "       [108.50690613],\n",
       "       [171.37788628],\n",
       "       [138.51984808],\n",
       "       [-90.21203423],\n",
       "       [-11.21848891],\n",
       "       [-58.83305068],\n",
       "       [-20.42825891],\n",
       "       [-33.45777572],\n",
       "       [-81.12987221],\n",
       "       [-61.30977143],\n",
       "       [-78.75615113],\n",
       "       [-89.19223415],\n",
       "       [-21.69129016]])"
      ]
     },
     "execution_count": 13,
     "metadata": {},
     "output_type": "execute_result"
    }
   ],
   "source": [
    "data"
   ]
  },
  {
   "cell_type": "code",
   "execution_count": 14,
   "metadata": {},
   "outputs": [
    {
     "data": {
      "text/plain": [
       "[array([[ 95.01724869],\n",
       "        [ 69.12380733],\n",
       "        [  0.48968187],\n",
       "        [ 47.05894682],\n",
       "        [  4.67473068],\n",
       "        [ 40.67623396],\n",
       "        [ 64.21756915],\n",
       "        [ 80.53317201],\n",
       "        [ 84.53778094],\n",
       "        [ 76.21458325],\n",
       "        [ 28.2380596 ],\n",
       "        [ 54.32356712],\n",
       "        [ 21.16504806],\n",
       "        [ 52.59957334],\n",
       "        [ 65.78326666],\n",
       "        [ 54.08796086],\n",
       "        [ 65.67253313],\n",
       "        [ 51.64959973],\n",
       "        [  9.65024989],\n",
       "        [ 26.83019698],\n",
       "        [ 14.21042473],\n",
       "        [ 13.33719378],\n",
       "        [ 18.38719552],\n",
       "        [ 13.45049344],\n",
       "        [ 97.07057711],\n",
       "        [ 18.73437919],\n",
       "        [ 39.92258068],\n",
       "        [ 12.73583334],\n",
       "        [ 34.15880868],\n",
       "        [ 27.34334446],\n",
       "        [ 63.40891363],\n",
       "        [ 36.87074717],\n",
       "        [ 33.79820623],\n",
       "        [ 21.86138707],\n",
       "        [ 17.0335533 ],\n",
       "        [ 38.27908563],\n",
       "        [  4.80311074],\n",
       "        [ 36.92550198],\n",
       "        [ 51.52779024],\n",
       "        [ 97.34127621],\n",
       "        [ 32.06991078],\n",
       "        [ 64.89984571],\n",
       "        [ 59.66134846],\n",
       "        [ 48.30605468],\n",
       "        [  0.8439178 ],\n",
       "        [ 37.71842933],\n",
       "        [ 88.4417325 ],\n",
       "        [ 72.57061663],\n",
       "        [ 90.17827533],\n",
       "        [ 21.40222012],\n",
       "        [ 50.        ],\n",
       "        [ 50.        ],\n",
       "        [ 50.        ],\n",
       "        [ 50.        ],\n",
       "        [ 50.        ],\n",
       "        [ 50.        ],\n",
       "        [ 50.        ],\n",
       "        [ 50.        ],\n",
       "        [ 50.        ],\n",
       "        [ 50.        ],\n",
       "        [ 50.        ],\n",
       "        [ 50.        ],\n",
       "        [ 50.        ],\n",
       "        [ 50.        ],\n",
       "        [ 50.        ],\n",
       "        [ 50.        ],\n",
       "        [ 50.        ],\n",
       "        [ 50.        ],\n",
       "        [ 50.        ],\n",
       "        [ 50.        ],\n",
       "        [ 50.        ],\n",
       "        [ 50.        ],\n",
       "        [ 50.        ],\n",
       "        [ 50.        ],\n",
       "        [ 50.        ],\n",
       "        [152.12564387],\n",
       "        [159.53092968],\n",
       "        [128.24711871],\n",
       "        [161.46335708],\n",
       "        [119.74804423],\n",
       "        [123.07403083],\n",
       "        [187.28301266],\n",
       "        [108.50690613],\n",
       "        [171.37788628],\n",
       "        [138.51984808],\n",
       "        [-90.21203423],\n",
       "        [-11.21848891],\n",
       "        [-58.83305068],\n",
       "        [-20.42825891],\n",
       "        [-33.45777572],\n",
       "        [-81.12987221],\n",
       "        [-61.30977143],\n",
       "        [-78.75615113],\n",
       "        [-89.19223415],\n",
       "        [-21.69129016]]),\n",
       " array([[ 31.16973912],\n",
       "        [ 46.70100876],\n",
       "        [ 26.60993688],\n",
       "        [ 79.00773255],\n",
       "        [ 90.56672944],\n",
       "        [ 91.73344957],\n",
       "        [ 61.03538679],\n",
       "        [ 86.62796609],\n",
       "        [ 97.18490404],\n",
       "        [ 61.45512778],\n",
       "        [ 17.14542917],\n",
       "        [ 16.10378587],\n",
       "        [ 96.59853259],\n",
       "        [ 96.17832253],\n",
       "        [ 92.46883514],\n",
       "        [ 50.91704958],\n",
       "        [ 49.96398171],\n",
       "        [ 53.52049445],\n",
       "        [  4.0038454 ],\n",
       "        [ 31.62828316],\n",
       "        [ 31.87410909],\n",
       "        [ 48.333707  ],\n",
       "        [ 21.32083179],\n",
       "        [ 48.12846986],\n",
       "        [ 99.48323968],\n",
       "        [ 24.95000794],\n",
       "        [ 65.11671844],\n",
       "        [  1.3590582 ],\n",
       "        [  8.43531747],\n",
       "        [ 48.38046798],\n",
       "        [ 37.24106542],\n",
       "        [ 81.74682661],\n",
       "        [ 75.66841362],\n",
       "        [ 39.00937993],\n",
       "        [ 93.52469242],\n",
       "        [ 65.61157033],\n",
       "        [ 15.01880994],\n",
       "        [ 42.09380234],\n",
       "        [ 40.19375558],\n",
       "        [ 45.89231952],\n",
       "        [ 69.12420345],\n",
       "        [ 71.55040482],\n",
       "        [ 65.3823683 ],\n",
       "        [ 14.53332426],\n",
       "        [  6.94667025],\n",
       "        [ 84.56070612],\n",
       "        [  9.32278803],\n",
       "        [ 55.62053867],\n",
       "        [ 34.86982473],\n",
       "        [ 60.30033786],\n",
       "        [ 40.        ],\n",
       "        [ 40.        ],\n",
       "        [ 40.        ],\n",
       "        [ 40.        ],\n",
       "        [ 40.        ],\n",
       "        [ 40.        ],\n",
       "        [ 40.        ],\n",
       "        [ 40.        ],\n",
       "        [ 40.        ],\n",
       "        [ 40.        ],\n",
       "        [ 40.        ],\n",
       "        [ 40.        ],\n",
       "        [ 40.        ],\n",
       "        [ 40.        ],\n",
       "        [ 40.        ],\n",
       "        [ 40.        ],\n",
       "        [ 40.        ],\n",
       "        [ 40.        ],\n",
       "        [ 40.        ],\n",
       "        [ 40.        ],\n",
       "        [ 40.        ],\n",
       "        [ 40.        ],\n",
       "        [ 40.        ],\n",
       "        [ 40.        ],\n",
       "        [ 40.        ],\n",
       "        [103.49593088],\n",
       "        [105.87942329],\n",
       "        [127.31998555],\n",
       "        [107.49013385],\n",
       "        [196.46197876],\n",
       "        [102.14149696],\n",
       "        [168.23704473],\n",
       "        [150.40758612],\n",
       "        [160.05348904],\n",
       "        [133.78400788],\n",
       "        [-53.06158121],\n",
       "        [-54.87542598],\n",
       "        [-53.45636736],\n",
       "        [-18.05516401],\n",
       "        [ -3.8160298 ],\n",
       "        [-60.26200247],\n",
       "        [ -3.48314714],\n",
       "        [-36.83193855],\n",
       "        [-45.78419459],\n",
       "        [-75.2947361 ]]),\n",
       " array([ 31.16973912,  26.60993688,  90.56672944,  61.03538679,\n",
       "         97.18490404,  17.14542917,  96.59853259,  92.46883514,\n",
       "         49.96398171,   4.0038454 ,  31.87410909,  21.32083179,\n",
       "         99.48323968,  65.11671844,   8.43531747,  37.24106542,\n",
       "         75.66841362,  93.52469242,  15.01880994,  40.19375558,\n",
       "         69.12420345,  65.3823683 ,   6.94667025,   9.32278803,\n",
       "         34.86982473,  40.        ,  40.        ,  40.        ,\n",
       "         40.        ,  40.        ,  40.        ,  40.        ,\n",
       "         40.        ,  40.        ,  40.        ,  40.        ,\n",
       "         40.        ,  40.        , 105.87942329, 107.49013385,\n",
       "        102.14149696, 150.40758612, 133.78400788, -54.87542598,\n",
       "        -18.05516401, -60.26200247, -36.83193855, -75.2947361 ])]"
      ]
     },
     "execution_count": 14,
     "metadata": {},
     "output_type": "execute_result"
    }
   ],
   "source": [
    "fulldata"
   ]
  },
  {
   "cell_type": "code",
   "execution_count": 12,
   "metadata": {},
   "outputs": [
    {
     "ename": "ValueError",
     "evalue": "X must have 2 or fewer dimensions",
     "output_type": "error",
     "traceback": [
      "\u001b[0;31m---------------------------------------------------------------------------\u001b[0m",
      "\u001b[0;31mValueError\u001b[0m                                Traceback (most recent call last)",
      "\u001b[0;32m<ipython-input-12-1aa9bdb3479e>\u001b[0m in \u001b[0;36m<module>\u001b[0;34m\u001b[0m\n\u001b[1;32m      1\u001b[0m \u001b[0mfig7\u001b[0m\u001b[0;34m,\u001b[0m \u001b[0max7\u001b[0m \u001b[0;34m=\u001b[0m \u001b[0mplt\u001b[0m\u001b[0;34m.\u001b[0m\u001b[0msubplots\u001b[0m\u001b[0;34m(\u001b[0m\u001b[0;34m)\u001b[0m\u001b[0;34m\u001b[0m\u001b[0;34m\u001b[0m\u001b[0m\n\u001b[1;32m      2\u001b[0m \u001b[0max7\u001b[0m\u001b[0;34m.\u001b[0m\u001b[0mset_title\u001b[0m\u001b[0;34m(\u001b[0m\u001b[0;34m\"Múltiples muestras de diferente naturaleza\"\u001b[0m\u001b[0;34m)\u001b[0m\u001b[0;34m\u001b[0m\u001b[0;34m\u001b[0m\u001b[0m\n\u001b[0;32m----> 3\u001b[0;31m \u001b[0max7\u001b[0m\u001b[0;34m.\u001b[0m\u001b[0mboxplot\u001b[0m\u001b[0;34m(\u001b[0m\u001b[0mfulldata\u001b[0m\u001b[0;34m)\u001b[0m\u001b[0;34m\u001b[0m\u001b[0;34m\u001b[0m\u001b[0m\n\u001b[0m\u001b[1;32m      4\u001b[0m \u001b[0mplt\u001b[0m\u001b[0;34m.\u001b[0m\u001b[0mshow\u001b[0m\u001b[0;34m(\u001b[0m\u001b[0;34m)\u001b[0m\u001b[0;34m\u001b[0m\u001b[0;34m\u001b[0m\u001b[0m\n",
      "\u001b[0;32m~/.local/lib/python3.8/site-packages/matplotlib/__init__.py\u001b[0m in \u001b[0;36minner\u001b[0;34m(ax, data, *args, **kwargs)\u001b[0m\n\u001b[1;32m   1410\u001b[0m     \u001b[0;32mdef\u001b[0m \u001b[0minner\u001b[0m\u001b[0;34m(\u001b[0m\u001b[0max\u001b[0m\u001b[0;34m,\u001b[0m \u001b[0;34m*\u001b[0m\u001b[0margs\u001b[0m\u001b[0;34m,\u001b[0m \u001b[0mdata\u001b[0m\u001b[0;34m=\u001b[0m\u001b[0;32mNone\u001b[0m\u001b[0;34m,\u001b[0m \u001b[0;34m**\u001b[0m\u001b[0mkwargs\u001b[0m\u001b[0;34m)\u001b[0m\u001b[0;34m:\u001b[0m\u001b[0;34m\u001b[0m\u001b[0;34m\u001b[0m\u001b[0m\n\u001b[1;32m   1411\u001b[0m         \u001b[0;32mif\u001b[0m \u001b[0mdata\u001b[0m \u001b[0;32mis\u001b[0m \u001b[0;32mNone\u001b[0m\u001b[0;34m:\u001b[0m\u001b[0;34m\u001b[0m\u001b[0;34m\u001b[0m\u001b[0m\n\u001b[0;32m-> 1412\u001b[0;31m             \u001b[0;32mreturn\u001b[0m \u001b[0mfunc\u001b[0m\u001b[0;34m(\u001b[0m\u001b[0max\u001b[0m\u001b[0;34m,\u001b[0m \u001b[0;34m*\u001b[0m\u001b[0mmap\u001b[0m\u001b[0;34m(\u001b[0m\u001b[0msanitize_sequence\u001b[0m\u001b[0;34m,\u001b[0m \u001b[0margs\u001b[0m\u001b[0;34m)\u001b[0m\u001b[0;34m,\u001b[0m \u001b[0;34m**\u001b[0m\u001b[0mkwargs\u001b[0m\u001b[0;34m)\u001b[0m\u001b[0;34m\u001b[0m\u001b[0;34m\u001b[0m\u001b[0m\n\u001b[0m\u001b[1;32m   1413\u001b[0m \u001b[0;34m\u001b[0m\u001b[0m\n\u001b[1;32m   1414\u001b[0m         \u001b[0mbound\u001b[0m \u001b[0;34m=\u001b[0m \u001b[0mnew_sig\u001b[0m\u001b[0;34m.\u001b[0m\u001b[0mbind\u001b[0m\u001b[0;34m(\u001b[0m\u001b[0max\u001b[0m\u001b[0;34m,\u001b[0m \u001b[0;34m*\u001b[0m\u001b[0margs\u001b[0m\u001b[0;34m,\u001b[0m \u001b[0;34m**\u001b[0m\u001b[0mkwargs\u001b[0m\u001b[0;34m)\u001b[0m\u001b[0;34m\u001b[0m\u001b[0;34m\u001b[0m\u001b[0m\n",
      "\u001b[0;32m~/.local/lib/python3.8/site-packages/matplotlib/axes/_axes.py\u001b[0m in \u001b[0;36mboxplot\u001b[0;34m(self, x, notch, sym, vert, whis, positions, widths, patch_artist, bootstrap, usermedians, conf_intervals, meanline, showmeans, showcaps, showbox, showfliers, boxprops, labels, flierprops, medianprops, meanprops, capprops, whiskerprops, manage_ticks, autorange, zorder)\u001b[0m\n\u001b[1;32m   3709\u001b[0m             \u001b[0mbootstrap\u001b[0m \u001b[0;34m=\u001b[0m \u001b[0mrcParams\u001b[0m\u001b[0;34m[\u001b[0m\u001b[0;34m'boxplot.bootstrap'\u001b[0m\u001b[0;34m]\u001b[0m\u001b[0;34m\u001b[0m\u001b[0;34m\u001b[0m\u001b[0m\n\u001b[1;32m   3710\u001b[0m \u001b[0;34m\u001b[0m\u001b[0m\n\u001b[0;32m-> 3711\u001b[0;31m         bxpstats = cbook.boxplot_stats(x, whis=whis, bootstrap=bootstrap,\n\u001b[0m\u001b[1;32m   3712\u001b[0m                                        labels=labels, autorange=autorange)\n\u001b[1;32m   3713\u001b[0m         \u001b[0;32mif\u001b[0m \u001b[0mnotch\u001b[0m \u001b[0;32mis\u001b[0m \u001b[0;32mNone\u001b[0m\u001b[0;34m:\u001b[0m\u001b[0;34m\u001b[0m\u001b[0;34m\u001b[0m\u001b[0m\n",
      "\u001b[0;32m~/.local/lib/python3.8/site-packages/matplotlib/cbook/__init__.py\u001b[0m in \u001b[0;36mboxplot_stats\u001b[0;34m(X, whis, bootstrap, labels, autorange)\u001b[0m\n\u001b[1;32m   1153\u001b[0m \u001b[0;34m\u001b[0m\u001b[0m\n\u001b[1;32m   1154\u001b[0m     \u001b[0;31m# convert X to a list of lists\u001b[0m\u001b[0;34m\u001b[0m\u001b[0;34m\u001b[0m\u001b[0;34m\u001b[0m\u001b[0m\n\u001b[0;32m-> 1155\u001b[0;31m     \u001b[0mX\u001b[0m \u001b[0;34m=\u001b[0m \u001b[0m_reshape_2D\u001b[0m\u001b[0;34m(\u001b[0m\u001b[0mX\u001b[0m\u001b[0;34m,\u001b[0m \u001b[0;34m\"X\"\u001b[0m\u001b[0;34m)\u001b[0m\u001b[0;34m\u001b[0m\u001b[0;34m\u001b[0m\u001b[0m\n\u001b[0m\u001b[1;32m   1156\u001b[0m \u001b[0;34m\u001b[0m\u001b[0m\n\u001b[1;32m   1157\u001b[0m     \u001b[0mncols\u001b[0m \u001b[0;34m=\u001b[0m \u001b[0mlen\u001b[0m\u001b[0;34m(\u001b[0m\u001b[0mX\u001b[0m\u001b[0;34m)\u001b[0m\u001b[0;34m\u001b[0m\u001b[0;34m\u001b[0m\u001b[0m\n",
      "\u001b[0;32m~/.local/lib/python3.8/site-packages/matplotlib/cbook/__init__.py\u001b[0m in \u001b[0;36m_reshape_2D\u001b[0;34m(X, name)\u001b[0m\n\u001b[1;32m   1396\u001b[0m         \u001b[0mnd\u001b[0m \u001b[0;34m=\u001b[0m \u001b[0mnp\u001b[0m\u001b[0;34m.\u001b[0m\u001b[0mndim\u001b[0m\u001b[0;34m(\u001b[0m\u001b[0mxi\u001b[0m\u001b[0;34m)\u001b[0m\u001b[0;34m\u001b[0m\u001b[0;34m\u001b[0m\u001b[0m\n\u001b[1;32m   1397\u001b[0m         \u001b[0;32mif\u001b[0m \u001b[0mnd\u001b[0m \u001b[0;34m>\u001b[0m \u001b[0;36m1\u001b[0m\u001b[0;34m:\u001b[0m\u001b[0;34m\u001b[0m\u001b[0;34m\u001b[0m\u001b[0m\n\u001b[0;32m-> 1398\u001b[0;31m             \u001b[0;32mraise\u001b[0m \u001b[0mValueError\u001b[0m\u001b[0;34m(\u001b[0m\u001b[0;34mf'{name} must have 2 or fewer dimensions'\u001b[0m\u001b[0;34m)\u001b[0m\u001b[0;34m\u001b[0m\u001b[0;34m\u001b[0m\u001b[0m\n\u001b[0m\u001b[1;32m   1399\u001b[0m         \u001b[0mresult\u001b[0m\u001b[0;34m.\u001b[0m\u001b[0mappend\u001b[0m\u001b[0;34m(\u001b[0m\u001b[0mxi\u001b[0m\u001b[0;34m.\u001b[0m\u001b[0mreshape\u001b[0m\u001b[0;34m(\u001b[0m\u001b[0;34m-\u001b[0m\u001b[0;36m1\u001b[0m\u001b[0;34m)\u001b[0m\u001b[0;34m)\u001b[0m\u001b[0;34m\u001b[0m\u001b[0;34m\u001b[0m\u001b[0m\n\u001b[1;32m   1400\u001b[0m \u001b[0;34m\u001b[0m\u001b[0m\n",
      "\u001b[0;31mValueError\u001b[0m: X must have 2 or fewer dimensions"
     ]
    },
    {
     "data": {
      "image/png": "[encoded data removed]",
      "text/plain": [
       "<Figure size 432x288 with 1 Axes>"
      ]
     },
     "metadata": {
      "needs_background": "light"
     },
     "output_type": "display_data"
    }
   ],
   "source": [
    "fig7, ax7 = plt.subplots()\n",
    "ax7.set_title(\"Múltiples muestras de diferente naturaleza\")\n",
    "ax7.boxplot(fulldata)\n",
    "plt.show()"
   ]
  },
  {
   "cell_type": "code",
   "execution_count": null,
   "metadata": {},
   "outputs": [],
   "source": []
  }
 ],
 "metadata": {
  "kernelspec": {
   "display_name": "Python 3",
   "language": "python",
   "name": "python3"
  },
  "language_info": {
   "codemirror_mode": {
    "name": "ipython",
    "version": 3
   },
   "file_extension": ".py",
   "mimetype": "text/x-python",
   "name": "python",
   "nbconvert_exporter": "python",
   "pygments_lexer": "ipython3",
   "version": "3.8.10"
  }
 },
 "nbformat": 4,
 "nbformat_minor": 2
}
